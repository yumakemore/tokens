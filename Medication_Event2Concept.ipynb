{
  "nbformat": 4,
  "nbformat_minor": 0,
  "metadata": {
    "colab": {
      "name": "Pandas_IO.ipynb",
      "provenance": [],
      "collapsed_sections": [],
      "include_colab_link": true
    },
    "kernelspec": {
      "name": "python3",
      "display_name": "Python 3"
    }
  },
  "cells": [
    {
      "cell_type": "markdown",
      "metadata": {
        "id": "view-in-github",
        "colab_type": "text"
      },
      "source": [
        "<a href=\"https://colab.research.google.com/github/yumakemore/tokens/blob/master/Medication_Event2Concept.ipynb\" target=\"_parent\"><img src=\"https://colab.research.google.com/assets/colab-badge.svg\" alt=\"Open In Colab\"/></a>"
      ]
    },
    {
      "cell_type": "markdown",
      "metadata": {
        "id": "wXOcaGpgncP5",
        "colab_type": "text"
      },
      "source": [
        "# Medication_Event2Concept\n",
        "Note: You must upload concept.xlsx and event.xlsx to files (under the folder icon on the left bar on Colab) when you revisit this notebook on Google Colab.\n",
        "\n",
        "\n",
        "\n"
      ]
    },
    {
      "cell_type": "code",
      "metadata": {
        "id": "EVsm-WzZngDO",
        "colab_type": "code",
        "colab": {}
      },
      "source": [
        "import pandas as pd\n",
        "import numpy as np\n",
        "import sys\n"
      ],
      "execution_count": 0,
      "outputs": []
    },
    {
      "cell_type": "markdown",
      "metadata": {
        "id": "wB8pkJzAoTTb",
        "colab_type": "text"
      },
      "source": [
        "\n",
        "\n",
        "Read Medication Events (event_csv.csv) into a Pandas DataFrame (event_df);\n",
        "Read Medication Concepts (concept_csv.csv) into a Pandas DataFrame (concept_df)."
      ]
    },
    {
      "cell_type": "code",
      "metadata": {
        "id": "jQA-2smPw5MO",
        "colab_type": "code",
        "colab": {
          "base_uri": "https://localhost:8080/",
          "height": 969
        },
        "outputId": "2e2c4d15-ea46-4d12-d1af-c1689b33d02e"
      },
      "source": [
        "# Path to the data file\n",
        "location = r'./event_csv.csv'\n",
        "# Parse the data file\n",
        "event_df = pd.read_csv(location, sep=',', index_col='unique_id', dtype={'encounter':'Int64'})\n",
        "\n",
        "# Path to the data file\n",
        "location = r'./concept_csv.csv'\n",
        "# Parse the data file\n",
        "concept_df = pd.read_csv(location, sep=',', index_col='unique_id')\n",
        "\n",
        "#Check out the data\n",
        "print(\"---event_df---\\n\")\n",
        "print(event_df.head(),\"\\n\")\n",
        "print(event_df.dtypes,\"\\n\")\n",
        "#print(event_df.tail())\n",
        "print(\"---concept_df---\\n\")\n",
        "print(concept_df.head(),\"\\n\")\n",
        "print(concept_df.dtypes,\"\\n\")\n",
        "#print(concept_df.tail())"
      ],
      "execution_count": 22,
      "outputs": [
        {
          "output_type": "stream",
          "text": [
            "---event_df---\n",
            "\n",
            "                                                 name_source  ... date_recorded\n",
            "unique_id                                                     ...              \n",
            "868                                     chlorthalidone 25 mg  ...      11/19/19\n",
            "884                                       atorvastatin 20 mg  ...      11/19/19\n",
            "825                                         lorazepam 0.5 mg  ...      11/19/19\n",
            "311        acetaminophen/codeine (TYLENOL/CODEINE #3) 300...  ...      11/19/19\n",
            "879        peg 3350-electrolytes 236 gram-22.74 gram-6.74...  ...      11/19/19\n",
            "\n",
            "[5 rows x 20 columns] \n",
            "\n",
            "name_source            object\n",
            "instruction            object\n",
            "dose_source           float64\n",
            "unit_source            object\n",
            "start_date             object\n",
            "Unnamed: 6             object\n",
            "status_source          object\n",
            "last_modified          object\n",
            "created                object\n",
            "data_source             int64\n",
            "Unnamed: 11           float64\n",
            "user                    int64\n",
            "Unnamed: 13            object\n",
            "route_source           object\n",
            "name_clean             object\n",
            "Unnamed: 16           float64\n",
            "encounter               Int64\n",
            "status_mapped          object\n",
            "medication_concept      int64\n",
            "date_recorded          object\n",
            "dtype: object \n",
            "\n",
            "---concept_df---\n",
            "\n",
            "                           name_clean  user  ... Unnamed: 7 Unnamed: 8\n",
            "unique_id                                    ...                      \n",
            "367                    clarithromycin    46  ...        NaN        NaN\n",
            "374          Ondansetron (ZOFRAN ODT)    46  ...        NaN        NaN\n",
            "361           Acetaminophen (TYLENOL)    46  ...        NaN        NaN\n",
            "340                      atorvastatin    62  ...        NaN        NaN\n",
            "344        cholecalciferol, vitamin D    62  ...        NaN        NaN\n",
            "\n",
            "[5 rows x 8 columns] \n",
            "\n",
            "name_clean      object\n",
            "user             int64\n",
            "status          object\n",
            "instructions    object\n",
            "start_date      object\n",
            "end_date        object\n",
            "Unnamed: 7      object\n",
            "Unnamed: 8      object\n",
            "dtype: object \n",
            "\n"
          ],
          "name": "stdout"
        }
      ]
    }
  ]
}